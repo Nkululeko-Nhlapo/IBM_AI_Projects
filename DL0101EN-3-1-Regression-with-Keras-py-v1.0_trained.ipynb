{
 "cells": [
  {
   "cell_type": "markdown",
   "metadata": {
    "button": false,
    "deletable": true,
    "new_sheet": false,
    "run_control": {
     "read_only": false
    }
   },
   "source": [
    "<a href=\"https://cognitiveclass.ai\"><img src = \"https://s3-api.us-geo.objectstorage.softlayer.net/cf-courses-data/CognitiveClass/Logos/organization_logo/organization_logo.png\" width = 400> </a>\n",
    "\n",
    "<h1 align=center><font size = 5>Regression Models with Keras</font></h1>"
   ]
  },
  {
   "cell_type": "markdown",
   "metadata": {
    "button": false,
    "deletable": true,
    "new_sheet": false,
    "run_control": {
     "read_only": false
    }
   },
   "source": [
    "## Introduction"
   ]
  },
  {
   "cell_type": "markdown",
   "metadata": {
    "button": false,
    "deletable": true,
    "new_sheet": false,
    "run_control": {
     "read_only": false
    }
   },
   "source": [
    "As we discussed in the videos, despite the popularity of more powerful libraries such as PyToch and TensorFlow, they are not easy to use and have a steep learning curve. So, for people who are just starting to learn deep learning, there is no better library to use other than the Keras library. \n",
    "\n",
    "Keras is a high-level API for building deep learning models. It has gained favor for its ease of use and syntactic simplicity facilitating fast development. As you will see in this lab and the other labs in this course, building a very complex deep learning network can be achieved with Keras with only few lines of code. You will appreciate Keras even more, once you learn how to build deep models using PyTorch and TensorFlow in the other courses.\n",
    "\n",
    "So, in this lab, you will learn how to use the Keras library to build a regression model."
   ]
  },
  {
   "cell_type": "markdown",
   "metadata": {
    "button": false,
    "deletable": true,
    "new_sheet": false,
    "run_control": {
     "read_only": false
    }
   },
   "source": [
    "## Table of Contents\n",
    "\n",
    "<div class=\"alert alert-block alert-info\" style=\"margin-top: 20px\">\n",
    "\n",
    "<font size = 3>\n",
    "    \n",
    "1. <a href=\"#item31\">Download and Clean Dataset</a>  \n",
    "2. <a href=\"#item32\">Import Keras</a>  \n",
    "3. <a href=\"#item33\">Build a Neural Network</a>  \n",
    "4. <a href=\"#item34\">Train and Test the Network</a>  \n",
    "\n",
    "</font>\n",
    "</div>"
   ]
  },
  {
   "cell_type": "markdown",
   "metadata": {
    "button": false,
    "deletable": true,
    "new_sheet": false,
    "run_control": {
     "read_only": false
    }
   },
   "source": [
    "<a id=\"item31\"></a>"
   ]
  },
  {
   "cell_type": "markdown",
   "metadata": {
    "button": false,
    "deletable": true,
    "new_sheet": false,
    "run_control": {
     "read_only": false
    }
   },
   "source": [
    "## Download and Clean Dataset"
   ]
  },
  {
   "cell_type": "markdown",
   "metadata": {
    "button": false,
    "deletable": true,
    "new_sheet": false,
    "run_control": {
     "read_only": false
    }
   },
   "source": [
    "Let's start by importing the <em>pandas</em> and the Numpy libraries."
   ]
  },
  {
   "cell_type": "code",
   "execution_count": 1,
   "metadata": {
    "button": false,
    "deletable": true,
    "new_sheet": false,
    "run_control": {
     "read_only": false
    }
   },
   "outputs": [],
   "source": [
    "import pandas as pd\n",
    "import numpy as np"
   ]
  },
  {
   "cell_type": "markdown",
   "metadata": {
    "button": false,
    "deletable": true,
    "new_sheet": false,
    "run_control": {
     "read_only": false
    }
   },
   "source": [
    "We will be playing around with the same dataset that we used in the videos.\n",
    "\n",
    "<strong>The dataset is about the compressive strength of different samples of concrete based on the volumes of the different ingredients that were used to make them. Ingredients include:</strong>\n",
    "\n",
    "<strong>1. Cement</strong>\n",
    "\n",
    "<strong>2. Blast Furnace Slag</strong>\n",
    "\n",
    "<strong>3. Fly Ash</strong>\n",
    "\n",
    "<strong>4. Water</strong>\n",
    "\n",
    "<strong>5. Superplasticizer</strong>\n",
    "\n",
    "<strong>6. Coarse Aggregate</strong>\n",
    "\n",
    "<strong>7. Fine Aggregate</strong>"
   ]
  },
  {
   "cell_type": "markdown",
   "metadata": {
    "button": false,
    "deletable": true,
    "new_sheet": false,
    "run_control": {
     "read_only": false
    }
   },
   "source": [
    "Let's download the data and read it into a <em>pandas</em> dataframe."
   ]
  },
  {
   "cell_type": "code",
   "execution_count": 2,
   "metadata": {
    "button": false,
    "deletable": true,
    "new_sheet": false,
    "run_control": {
     "read_only": false
    }
   },
   "outputs": [
    {
     "data": {
      "text/html": [
       "<div>\n",
       "<style scoped>\n",
       "    .dataframe tbody tr th:only-of-type {\n",
       "        vertical-align: middle;\n",
       "    }\n",
       "\n",
       "    .dataframe tbody tr th {\n",
       "        vertical-align: top;\n",
       "    }\n",
       "\n",
       "    .dataframe thead th {\n",
       "        text-align: right;\n",
       "    }\n",
       "</style>\n",
       "<table border=\"1\" class=\"dataframe\">\n",
       "  <thead>\n",
       "    <tr style=\"text-align: right;\">\n",
       "      <th></th>\n",
       "      <th>Cement</th>\n",
       "      <th>Blast Furnace Slag</th>\n",
       "      <th>Fly Ash</th>\n",
       "      <th>Water</th>\n",
       "      <th>Superplasticizer</th>\n",
       "      <th>Coarse Aggregate</th>\n",
       "      <th>Fine Aggregate</th>\n",
       "      <th>Age</th>\n",
       "      <th>Strength</th>\n",
       "    </tr>\n",
       "  </thead>\n",
       "  <tbody>\n",
       "    <tr>\n",
       "      <th>0</th>\n",
       "      <td>540.0</td>\n",
       "      <td>0.0</td>\n",
       "      <td>0.0</td>\n",
       "      <td>162.0</td>\n",
       "      <td>2.5</td>\n",
       "      <td>1040.0</td>\n",
       "      <td>676.0</td>\n",
       "      <td>28</td>\n",
       "      <td>79.99</td>\n",
       "    </tr>\n",
       "    <tr>\n",
       "      <th>1</th>\n",
       "      <td>540.0</td>\n",
       "      <td>0.0</td>\n",
       "      <td>0.0</td>\n",
       "      <td>162.0</td>\n",
       "      <td>2.5</td>\n",
       "      <td>1055.0</td>\n",
       "      <td>676.0</td>\n",
       "      <td>28</td>\n",
       "      <td>61.89</td>\n",
       "    </tr>\n",
       "    <tr>\n",
       "      <th>2</th>\n",
       "      <td>332.5</td>\n",
       "      <td>142.5</td>\n",
       "      <td>0.0</td>\n",
       "      <td>228.0</td>\n",
       "      <td>0.0</td>\n",
       "      <td>932.0</td>\n",
       "      <td>594.0</td>\n",
       "      <td>270</td>\n",
       "      <td>40.27</td>\n",
       "    </tr>\n",
       "    <tr>\n",
       "      <th>3</th>\n",
       "      <td>332.5</td>\n",
       "      <td>142.5</td>\n",
       "      <td>0.0</td>\n",
       "      <td>228.0</td>\n",
       "      <td>0.0</td>\n",
       "      <td>932.0</td>\n",
       "      <td>594.0</td>\n",
       "      <td>365</td>\n",
       "      <td>41.05</td>\n",
       "    </tr>\n",
       "    <tr>\n",
       "      <th>4</th>\n",
       "      <td>198.6</td>\n",
       "      <td>132.4</td>\n",
       "      <td>0.0</td>\n",
       "      <td>192.0</td>\n",
       "      <td>0.0</td>\n",
       "      <td>978.4</td>\n",
       "      <td>825.5</td>\n",
       "      <td>360</td>\n",
       "      <td>44.30</td>\n",
       "    </tr>\n",
       "  </tbody>\n",
       "</table>\n",
       "</div>"
      ],
      "text/plain": [
       "   Cement  Blast Furnace Slag  Fly Ash  Water  Superplasticizer  \\\n",
       "0   540.0                 0.0      0.0  162.0               2.5   \n",
       "1   540.0                 0.0      0.0  162.0               2.5   \n",
       "2   332.5               142.5      0.0  228.0               0.0   \n",
       "3   332.5               142.5      0.0  228.0               0.0   \n",
       "4   198.6               132.4      0.0  192.0               0.0   \n",
       "\n",
       "   Coarse Aggregate  Fine Aggregate  Age  Strength  \n",
       "0            1040.0           676.0   28     79.99  \n",
       "1            1055.0           676.0   28     61.89  \n",
       "2             932.0           594.0  270     40.27  \n",
       "3             932.0           594.0  365     41.05  \n",
       "4             978.4           825.5  360     44.30  "
      ]
     },
     "execution_count": 2,
     "metadata": {},
     "output_type": "execute_result"
    }
   ],
   "source": [
    "concrete_data = pd.read_csv('https://s3-api.us-geo.objectstorage.softlayer.net/cf-courses-data/CognitiveClass/DL0101EN/labs/data/concrete_data.csv')\n",
    "concrete_data.head()"
   ]
  },
  {
   "cell_type": "markdown",
   "metadata": {
    "button": false,
    "deletable": true,
    "new_sheet": false,
    "run_control": {
     "read_only": false
    }
   },
   "source": [
    "So the first concrete sample has 540 cubic meter of cement, 0 cubic meter of blast furnace slag, 0 cubic meter of fly ash, 162 cubic meter of water, 2.5 cubic meter of superplaticizer, 1040 cubic meter of coarse aggregate, 676 cubic meter of fine aggregate. Such a concrete mix which is 28 days old, has a compressive strength of 79.99 MPa. "
   ]
  },
  {
   "cell_type": "markdown",
   "metadata": {
    "button": false,
    "deletable": true,
    "new_sheet": false,
    "run_control": {
     "read_only": false
    }
   },
   "source": [
    "#### Let's check how many data points we have."
   ]
  },
  {
   "cell_type": "code",
   "execution_count": 3,
   "metadata": {
    "button": false,
    "deletable": true,
    "new_sheet": false,
    "run_control": {
     "read_only": false
    }
   },
   "outputs": [
    {
     "data": {
      "text/plain": [
       "(1030, 9)"
      ]
     },
     "execution_count": 3,
     "metadata": {},
     "output_type": "execute_result"
    }
   ],
   "source": [
    "concrete_data.shape"
   ]
  },
  {
   "cell_type": "markdown",
   "metadata": {
    "button": false,
    "deletable": true,
    "new_sheet": false,
    "run_control": {
     "read_only": false
    }
   },
   "source": [
    "So, there are approximately 1000 samples to train our model on. Because of the few samples, we have to be careful not to overfit the training data."
   ]
  },
  {
   "cell_type": "markdown",
   "metadata": {
    "button": false,
    "deletable": true,
    "new_sheet": false,
    "run_control": {
     "read_only": false
    }
   },
   "source": [
    "Let's check the dataset for any missing values."
   ]
  },
  {
   "cell_type": "code",
   "execution_count": 4,
   "metadata": {
    "button": false,
    "deletable": true,
    "new_sheet": false,
    "run_control": {
     "read_only": false
    }
   },
   "outputs": [
    {
     "data": {
      "text/html": [
       "<div>\n",
       "<style scoped>\n",
       "    .dataframe tbody tr th:only-of-type {\n",
       "        vertical-align: middle;\n",
       "    }\n",
       "\n",
       "    .dataframe tbody tr th {\n",
       "        vertical-align: top;\n",
       "    }\n",
       "\n",
       "    .dataframe thead th {\n",
       "        text-align: right;\n",
       "    }\n",
       "</style>\n",
       "<table border=\"1\" class=\"dataframe\">\n",
       "  <thead>\n",
       "    <tr style=\"text-align: right;\">\n",
       "      <th></th>\n",
       "      <th>Cement</th>\n",
       "      <th>Blast Furnace Slag</th>\n",
       "      <th>Fly Ash</th>\n",
       "      <th>Water</th>\n",
       "      <th>Superplasticizer</th>\n",
       "      <th>Coarse Aggregate</th>\n",
       "      <th>Fine Aggregate</th>\n",
       "      <th>Age</th>\n",
       "      <th>Strength</th>\n",
       "    </tr>\n",
       "  </thead>\n",
       "  <tbody>\n",
       "    <tr>\n",
       "      <th>count</th>\n",
       "      <td>1030.000000</td>\n",
       "      <td>1030.000000</td>\n",
       "      <td>1030.000000</td>\n",
       "      <td>1030.000000</td>\n",
       "      <td>1030.000000</td>\n",
       "      <td>1030.000000</td>\n",
       "      <td>1030.000000</td>\n",
       "      <td>1030.000000</td>\n",
       "      <td>1030.000000</td>\n",
       "    </tr>\n",
       "    <tr>\n",
       "      <th>mean</th>\n",
       "      <td>281.167864</td>\n",
       "      <td>73.895825</td>\n",
       "      <td>54.188350</td>\n",
       "      <td>181.567282</td>\n",
       "      <td>6.204660</td>\n",
       "      <td>972.918932</td>\n",
       "      <td>773.580485</td>\n",
       "      <td>45.662136</td>\n",
       "      <td>35.817961</td>\n",
       "    </tr>\n",
       "    <tr>\n",
       "      <th>std</th>\n",
       "      <td>104.506364</td>\n",
       "      <td>86.279342</td>\n",
       "      <td>63.997004</td>\n",
       "      <td>21.354219</td>\n",
       "      <td>5.973841</td>\n",
       "      <td>77.753954</td>\n",
       "      <td>80.175980</td>\n",
       "      <td>63.169912</td>\n",
       "      <td>16.705742</td>\n",
       "    </tr>\n",
       "    <tr>\n",
       "      <th>min</th>\n",
       "      <td>102.000000</td>\n",
       "      <td>0.000000</td>\n",
       "      <td>0.000000</td>\n",
       "      <td>121.800000</td>\n",
       "      <td>0.000000</td>\n",
       "      <td>801.000000</td>\n",
       "      <td>594.000000</td>\n",
       "      <td>1.000000</td>\n",
       "      <td>2.330000</td>\n",
       "    </tr>\n",
       "    <tr>\n",
       "      <th>25%</th>\n",
       "      <td>192.375000</td>\n",
       "      <td>0.000000</td>\n",
       "      <td>0.000000</td>\n",
       "      <td>164.900000</td>\n",
       "      <td>0.000000</td>\n",
       "      <td>932.000000</td>\n",
       "      <td>730.950000</td>\n",
       "      <td>7.000000</td>\n",
       "      <td>23.710000</td>\n",
       "    </tr>\n",
       "    <tr>\n",
       "      <th>50%</th>\n",
       "      <td>272.900000</td>\n",
       "      <td>22.000000</td>\n",
       "      <td>0.000000</td>\n",
       "      <td>185.000000</td>\n",
       "      <td>6.400000</td>\n",
       "      <td>968.000000</td>\n",
       "      <td>779.500000</td>\n",
       "      <td>28.000000</td>\n",
       "      <td>34.445000</td>\n",
       "    </tr>\n",
       "    <tr>\n",
       "      <th>75%</th>\n",
       "      <td>350.000000</td>\n",
       "      <td>142.950000</td>\n",
       "      <td>118.300000</td>\n",
       "      <td>192.000000</td>\n",
       "      <td>10.200000</td>\n",
       "      <td>1029.400000</td>\n",
       "      <td>824.000000</td>\n",
       "      <td>56.000000</td>\n",
       "      <td>46.135000</td>\n",
       "    </tr>\n",
       "    <tr>\n",
       "      <th>max</th>\n",
       "      <td>540.000000</td>\n",
       "      <td>359.400000</td>\n",
       "      <td>200.100000</td>\n",
       "      <td>247.000000</td>\n",
       "      <td>32.200000</td>\n",
       "      <td>1145.000000</td>\n",
       "      <td>992.600000</td>\n",
       "      <td>365.000000</td>\n",
       "      <td>82.600000</td>\n",
       "    </tr>\n",
       "  </tbody>\n",
       "</table>\n",
       "</div>"
      ],
      "text/plain": [
       "            Cement  Blast Furnace Slag      Fly Ash        Water  \\\n",
       "count  1030.000000         1030.000000  1030.000000  1030.000000   \n",
       "mean    281.167864           73.895825    54.188350   181.567282   \n",
       "std     104.506364           86.279342    63.997004    21.354219   \n",
       "min     102.000000            0.000000     0.000000   121.800000   \n",
       "25%     192.375000            0.000000     0.000000   164.900000   \n",
       "50%     272.900000           22.000000     0.000000   185.000000   \n",
       "75%     350.000000          142.950000   118.300000   192.000000   \n",
       "max     540.000000          359.400000   200.100000   247.000000   \n",
       "\n",
       "       Superplasticizer  Coarse Aggregate  Fine Aggregate          Age  \\\n",
       "count       1030.000000       1030.000000     1030.000000  1030.000000   \n",
       "mean           6.204660        972.918932      773.580485    45.662136   \n",
       "std            5.973841         77.753954       80.175980    63.169912   \n",
       "min            0.000000        801.000000      594.000000     1.000000   \n",
       "25%            0.000000        932.000000      730.950000     7.000000   \n",
       "50%            6.400000        968.000000      779.500000    28.000000   \n",
       "75%           10.200000       1029.400000      824.000000    56.000000   \n",
       "max           32.200000       1145.000000      992.600000   365.000000   \n",
       "\n",
       "          Strength  \n",
       "count  1030.000000  \n",
       "mean     35.817961  \n",
       "std      16.705742  \n",
       "min       2.330000  \n",
       "25%      23.710000  \n",
       "50%      34.445000  \n",
       "75%      46.135000  \n",
       "max      82.600000  "
      ]
     },
     "execution_count": 4,
     "metadata": {},
     "output_type": "execute_result"
    }
   ],
   "source": [
    "concrete_data.describe()"
   ]
  },
  {
   "cell_type": "code",
   "execution_count": 5,
   "metadata": {
    "button": false,
    "deletable": true,
    "new_sheet": false,
    "run_control": {
     "read_only": false
    }
   },
   "outputs": [
    {
     "data": {
      "text/plain": [
       "Cement                0\n",
       "Blast Furnace Slag    0\n",
       "Fly Ash               0\n",
       "Water                 0\n",
       "Superplasticizer      0\n",
       "Coarse Aggregate      0\n",
       "Fine Aggregate        0\n",
       "Age                   0\n",
       "Strength              0\n",
       "dtype: int64"
      ]
     },
     "execution_count": 5,
     "metadata": {},
     "output_type": "execute_result"
    }
   ],
   "source": [
    "concrete_data.isnull().sum()"
   ]
  },
  {
   "cell_type": "markdown",
   "metadata": {
    "button": false,
    "deletable": true,
    "new_sheet": false,
    "run_control": {
     "read_only": false
    }
   },
   "source": [
    "The data looks very clean and is ready to be used to build our model."
   ]
  },
  {
   "cell_type": "markdown",
   "metadata": {
    "button": false,
    "deletable": true,
    "new_sheet": false,
    "run_control": {
     "read_only": false
    }
   },
   "source": [
    "#### Split data into predictors and target"
   ]
  },
  {
   "cell_type": "markdown",
   "metadata": {},
   "source": [
    "The target variable in this problem is the concrete sample strength. Therefore, our predictors will be all the other columns."
   ]
  },
  {
   "cell_type": "code",
   "execution_count": 6,
   "metadata": {
    "button": false,
    "deletable": true,
    "new_sheet": false,
    "run_control": {
     "read_only": false
    }
   },
   "outputs": [],
   "source": [
    "concrete_data_columns = concrete_data.columns\n",
    "\n",
    "predictors = concrete_data[concrete_data_columns[concrete_data_columns != 'Strength']] # all columns except Strength\n",
    "target = concrete_data['Strength'] # Strength column"
   ]
  },
  {
   "cell_type": "markdown",
   "metadata": {
    "button": false,
    "deletable": true,
    "new_sheet": false,
    "run_control": {
     "read_only": false
    }
   },
   "source": [
    "<a id=\"item2\"></a>"
   ]
  },
  {
   "cell_type": "markdown",
   "metadata": {
    "button": false,
    "deletable": true,
    "new_sheet": false,
    "run_control": {
     "read_only": false
    }
   },
   "source": [
    "Let's do a quick sanity check of the predictors and the target dataframes."
   ]
  },
  {
   "cell_type": "code",
   "execution_count": 7,
   "metadata": {
    "button": false,
    "deletable": true,
    "new_sheet": false,
    "run_control": {
     "read_only": false
    }
   },
   "outputs": [
    {
     "data": {
      "text/html": [
       "<div>\n",
       "<style scoped>\n",
       "    .dataframe tbody tr th:only-of-type {\n",
       "        vertical-align: middle;\n",
       "    }\n",
       "\n",
       "    .dataframe tbody tr th {\n",
       "        vertical-align: top;\n",
       "    }\n",
       "\n",
       "    .dataframe thead th {\n",
       "        text-align: right;\n",
       "    }\n",
       "</style>\n",
       "<table border=\"1\" class=\"dataframe\">\n",
       "  <thead>\n",
       "    <tr style=\"text-align: right;\">\n",
       "      <th></th>\n",
       "      <th>Cement</th>\n",
       "      <th>Blast Furnace Slag</th>\n",
       "      <th>Fly Ash</th>\n",
       "      <th>Water</th>\n",
       "      <th>Superplasticizer</th>\n",
       "      <th>Coarse Aggregate</th>\n",
       "      <th>Fine Aggregate</th>\n",
       "      <th>Age</th>\n",
       "    </tr>\n",
       "  </thead>\n",
       "  <tbody>\n",
       "    <tr>\n",
       "      <th>0</th>\n",
       "      <td>540.0</td>\n",
       "      <td>0.0</td>\n",
       "      <td>0.0</td>\n",
       "      <td>162.0</td>\n",
       "      <td>2.5</td>\n",
       "      <td>1040.0</td>\n",
       "      <td>676.0</td>\n",
       "      <td>28</td>\n",
       "    </tr>\n",
       "    <tr>\n",
       "      <th>1</th>\n",
       "      <td>540.0</td>\n",
       "      <td>0.0</td>\n",
       "      <td>0.0</td>\n",
       "      <td>162.0</td>\n",
       "      <td>2.5</td>\n",
       "      <td>1055.0</td>\n",
       "      <td>676.0</td>\n",
       "      <td>28</td>\n",
       "    </tr>\n",
       "    <tr>\n",
       "      <th>2</th>\n",
       "      <td>332.5</td>\n",
       "      <td>142.5</td>\n",
       "      <td>0.0</td>\n",
       "      <td>228.0</td>\n",
       "      <td>0.0</td>\n",
       "      <td>932.0</td>\n",
       "      <td>594.0</td>\n",
       "      <td>270</td>\n",
       "    </tr>\n",
       "    <tr>\n",
       "      <th>3</th>\n",
       "      <td>332.5</td>\n",
       "      <td>142.5</td>\n",
       "      <td>0.0</td>\n",
       "      <td>228.0</td>\n",
       "      <td>0.0</td>\n",
       "      <td>932.0</td>\n",
       "      <td>594.0</td>\n",
       "      <td>365</td>\n",
       "    </tr>\n",
       "    <tr>\n",
       "      <th>4</th>\n",
       "      <td>198.6</td>\n",
       "      <td>132.4</td>\n",
       "      <td>0.0</td>\n",
       "      <td>192.0</td>\n",
       "      <td>0.0</td>\n",
       "      <td>978.4</td>\n",
       "      <td>825.5</td>\n",
       "      <td>360</td>\n",
       "    </tr>\n",
       "  </tbody>\n",
       "</table>\n",
       "</div>"
      ],
      "text/plain": [
       "   Cement  Blast Furnace Slag  Fly Ash  Water  Superplasticizer  \\\n",
       "0   540.0                 0.0      0.0  162.0               2.5   \n",
       "1   540.0                 0.0      0.0  162.0               2.5   \n",
       "2   332.5               142.5      0.0  228.0               0.0   \n",
       "3   332.5               142.5      0.0  228.0               0.0   \n",
       "4   198.6               132.4      0.0  192.0               0.0   \n",
       "\n",
       "   Coarse Aggregate  Fine Aggregate  Age  \n",
       "0            1040.0           676.0   28  \n",
       "1            1055.0           676.0   28  \n",
       "2             932.0           594.0  270  \n",
       "3             932.0           594.0  365  \n",
       "4             978.4           825.5  360  "
      ]
     },
     "execution_count": 7,
     "metadata": {},
     "output_type": "execute_result"
    }
   ],
   "source": [
    "predictors.head()"
   ]
  },
  {
   "cell_type": "code",
   "execution_count": 8,
   "metadata": {
    "button": false,
    "deletable": true,
    "new_sheet": false,
    "run_control": {
     "read_only": false
    }
   },
   "outputs": [
    {
     "data": {
      "text/plain": [
       "0    79.99\n",
       "1    61.89\n",
       "2    40.27\n",
       "3    41.05\n",
       "4    44.30\n",
       "Name: Strength, dtype: float64"
      ]
     },
     "execution_count": 8,
     "metadata": {},
     "output_type": "execute_result"
    }
   ],
   "source": [
    "target.head()"
   ]
  },
  {
   "cell_type": "markdown",
   "metadata": {
    "button": false,
    "deletable": true,
    "new_sheet": false,
    "run_control": {
     "read_only": false
    }
   },
   "source": [
    "Finally, the last step is to normalize the data by substracting the mean and dividing by the standard deviation."
   ]
  },
  {
   "cell_type": "code",
   "execution_count": 9,
   "metadata": {
    "button": false,
    "deletable": true,
    "new_sheet": false,
    "run_control": {
     "read_only": false
    }
   },
   "outputs": [
    {
     "data": {
      "text/html": [
       "<div>\n",
       "<style scoped>\n",
       "    .dataframe tbody tr th:only-of-type {\n",
       "        vertical-align: middle;\n",
       "    }\n",
       "\n",
       "    .dataframe tbody tr th {\n",
       "        vertical-align: top;\n",
       "    }\n",
       "\n",
       "    .dataframe thead th {\n",
       "        text-align: right;\n",
       "    }\n",
       "</style>\n",
       "<table border=\"1\" class=\"dataframe\">\n",
       "  <thead>\n",
       "    <tr style=\"text-align: right;\">\n",
       "      <th></th>\n",
       "      <th>Cement</th>\n",
       "      <th>Blast Furnace Slag</th>\n",
       "      <th>Fly Ash</th>\n",
       "      <th>Water</th>\n",
       "      <th>Superplasticizer</th>\n",
       "      <th>Coarse Aggregate</th>\n",
       "      <th>Fine Aggregate</th>\n",
       "      <th>Age</th>\n",
       "    </tr>\n",
       "  </thead>\n",
       "  <tbody>\n",
       "    <tr>\n",
       "      <th>0</th>\n",
       "      <td>2.476712</td>\n",
       "      <td>-0.856472</td>\n",
       "      <td>-0.846733</td>\n",
       "      <td>-0.916319</td>\n",
       "      <td>-0.620147</td>\n",
       "      <td>0.862735</td>\n",
       "      <td>-1.217079</td>\n",
       "      <td>-0.279597</td>\n",
       "    </tr>\n",
       "    <tr>\n",
       "      <th>1</th>\n",
       "      <td>2.476712</td>\n",
       "      <td>-0.856472</td>\n",
       "      <td>-0.846733</td>\n",
       "      <td>-0.916319</td>\n",
       "      <td>-0.620147</td>\n",
       "      <td>1.055651</td>\n",
       "      <td>-1.217079</td>\n",
       "      <td>-0.279597</td>\n",
       "    </tr>\n",
       "    <tr>\n",
       "      <th>2</th>\n",
       "      <td>0.491187</td>\n",
       "      <td>0.795140</td>\n",
       "      <td>-0.846733</td>\n",
       "      <td>2.174405</td>\n",
       "      <td>-1.038638</td>\n",
       "      <td>-0.526262</td>\n",
       "      <td>-2.239829</td>\n",
       "      <td>3.551340</td>\n",
       "    </tr>\n",
       "    <tr>\n",
       "      <th>3</th>\n",
       "      <td>0.491187</td>\n",
       "      <td>0.795140</td>\n",
       "      <td>-0.846733</td>\n",
       "      <td>2.174405</td>\n",
       "      <td>-1.038638</td>\n",
       "      <td>-0.526262</td>\n",
       "      <td>-2.239829</td>\n",
       "      <td>5.055221</td>\n",
       "    </tr>\n",
       "    <tr>\n",
       "      <th>4</th>\n",
       "      <td>-0.790075</td>\n",
       "      <td>0.678079</td>\n",
       "      <td>-0.846733</td>\n",
       "      <td>0.488555</td>\n",
       "      <td>-1.038638</td>\n",
       "      <td>0.070492</td>\n",
       "      <td>0.647569</td>\n",
       "      <td>4.976069</td>\n",
       "    </tr>\n",
       "  </tbody>\n",
       "</table>\n",
       "</div>"
      ],
      "text/plain": [
       "     Cement  Blast Furnace Slag   Fly Ash     Water  Superplasticizer  \\\n",
       "0  2.476712           -0.856472 -0.846733 -0.916319         -0.620147   \n",
       "1  2.476712           -0.856472 -0.846733 -0.916319         -0.620147   \n",
       "2  0.491187            0.795140 -0.846733  2.174405         -1.038638   \n",
       "3  0.491187            0.795140 -0.846733  2.174405         -1.038638   \n",
       "4 -0.790075            0.678079 -0.846733  0.488555         -1.038638   \n",
       "\n",
       "   Coarse Aggregate  Fine Aggregate       Age  \n",
       "0          0.862735       -1.217079 -0.279597  \n",
       "1          1.055651       -1.217079 -0.279597  \n",
       "2         -0.526262       -2.239829  3.551340  \n",
       "3         -0.526262       -2.239829  5.055221  \n",
       "4          0.070492        0.647569  4.976069  "
      ]
     },
     "execution_count": 9,
     "metadata": {},
     "output_type": "execute_result"
    }
   ],
   "source": [
    "predictors_norm = (predictors - predictors.mean()) / predictors.std()\n",
    "predictors_norm.head()"
   ]
  },
  {
   "cell_type": "markdown",
   "metadata": {},
   "source": [
    "Let's save the number of predictors to *n_cols* since we will need this number when building our network."
   ]
  },
  {
   "cell_type": "code",
   "execution_count": 13,
   "metadata": {
    "button": false,
    "deletable": true,
    "new_sheet": false,
    "run_control": {
     "read_only": false
    }
   },
   "outputs": [
    {
     "data": {
      "text/plain": [
       "8"
      ]
     },
     "execution_count": 13,
     "metadata": {},
     "output_type": "execute_result"
    }
   ],
   "source": [
    "n_cols = predictors_norm.shape[1] # number of predictors\n",
    "n_cols"
   ]
  },
  {
   "cell_type": "markdown",
   "metadata": {
    "button": false,
    "deletable": true,
    "new_sheet": false,
    "run_control": {
     "read_only": false
    }
   },
   "source": [
    "<a id=\"item1\"></a>"
   ]
  },
  {
   "cell_type": "markdown",
   "metadata": {},
   "source": [
    "<a id='item32'></a>"
   ]
  },
  {
   "cell_type": "markdown",
   "metadata": {
    "button": false,
    "deletable": true,
    "new_sheet": false,
    "run_control": {
     "read_only": false
    }
   },
   "source": [
    "## Import Keras"
   ]
  },
  {
   "cell_type": "markdown",
   "metadata": {
    "button": false,
    "deletable": true,
    "new_sheet": false,
    "run_control": {
     "read_only": false
    }
   },
   "source": [
    "Recall from the videos that Keras normally runs on top of a low-level library such as TensorFlow. This means that to be able to use the Keras library, you will have to install TensorFlow first and when you import the Keras library, it will be explicitly displayed what backend was used to install the Keras library. In CC Labs, we used TensorFlow as the backend to install Keras, so it should clearly print that when we import Keras."
   ]
  },
  {
   "cell_type": "markdown",
   "metadata": {
    "button": false,
    "deletable": true,
    "new_sheet": false,
    "run_control": {
     "read_only": false
    }
   },
   "source": [
    "#### Let's go ahead and import the Keras library"
   ]
  },
  {
   "cell_type": "code",
   "execution_count": 14,
   "metadata": {
    "button": false,
    "deletable": true,
    "new_sheet": false,
    "run_control": {
     "read_only": false
    }
   },
   "outputs": [
    {
     "name": "stderr",
     "output_type": "stream",
     "text": [
      "Using TensorFlow backend.\n",
      "/home/jupyterlab/conda/envs/python/lib/python3.6/site-packages/tensorflow/python/framework/dtypes.py:519: FutureWarning: Passing (type, 1) or '1type' as a synonym of type is deprecated; in a future version of numpy, it will be understood as (type, (1,)) / '(1,)type'.\n",
      "  _np_qint8 = np.dtype([(\"qint8\", np.int8, 1)])\n",
      "/home/jupyterlab/conda/envs/python/lib/python3.6/site-packages/tensorflow/python/framework/dtypes.py:520: FutureWarning: Passing (type, 1) or '1type' as a synonym of type is deprecated; in a future version of numpy, it will be understood as (type, (1,)) / '(1,)type'.\n",
      "  _np_quint8 = np.dtype([(\"quint8\", np.uint8, 1)])\n",
      "/home/jupyterlab/conda/envs/python/lib/python3.6/site-packages/tensorflow/python/framework/dtypes.py:521: FutureWarning: Passing (type, 1) or '1type' as a synonym of type is deprecated; in a future version of numpy, it will be understood as (type, (1,)) / '(1,)type'.\n",
      "  _np_qint16 = np.dtype([(\"qint16\", np.int16, 1)])\n",
      "/home/jupyterlab/conda/envs/python/lib/python3.6/site-packages/tensorflow/python/framework/dtypes.py:522: FutureWarning: Passing (type, 1) or '1type' as a synonym of type is deprecated; in a future version of numpy, it will be understood as (type, (1,)) / '(1,)type'.\n",
      "  _np_quint16 = np.dtype([(\"quint16\", np.uint16, 1)])\n",
      "/home/jupyterlab/conda/envs/python/lib/python3.6/site-packages/tensorflow/python/framework/dtypes.py:523: FutureWarning: Passing (type, 1) or '1type' as a synonym of type is deprecated; in a future version of numpy, it will be understood as (type, (1,)) / '(1,)type'.\n",
      "  _np_qint32 = np.dtype([(\"qint32\", np.int32, 1)])\n",
      "/home/jupyterlab/conda/envs/python/lib/python3.6/site-packages/tensorflow/python/framework/dtypes.py:528: FutureWarning: Passing (type, 1) or '1type' as a synonym of type is deprecated; in a future version of numpy, it will be understood as (type, (1,)) / '(1,)type'.\n",
      "  np_resource = np.dtype([(\"resource\", np.ubyte, 1)])\n"
     ]
    }
   ],
   "source": [
    "import keras"
   ]
  },
  {
   "cell_type": "markdown",
   "metadata": {
    "button": false,
    "deletable": true,
    "new_sheet": false,
    "run_control": {
     "read_only": false
    }
   },
   "source": [
    "As you can see, the TensorFlow backend was used to install the Keras library."
   ]
  },
  {
   "cell_type": "markdown",
   "metadata": {
    "button": false,
    "deletable": true,
    "new_sheet": false,
    "run_control": {
     "read_only": false
    }
   },
   "source": [
    "Let's import the rest of the packages from the Keras library that we will need to build our regressoin model."
   ]
  },
  {
   "cell_type": "code",
   "execution_count": 15,
   "metadata": {
    "button": false,
    "deletable": true,
    "new_sheet": false,
    "run_control": {
     "read_only": false
    }
   },
   "outputs": [],
   "source": [
    "from keras.models import Sequential\n",
    "from keras.layers import Dense"
   ]
  },
  {
   "cell_type": "markdown",
   "metadata": {},
   "source": [
    "<a id='item33'></a>"
   ]
  },
  {
   "cell_type": "markdown",
   "metadata": {
    "button": false,
    "deletable": true,
    "new_sheet": false,
    "run_control": {
     "read_only": false
    }
   },
   "source": [
    "## Build a Neural Network"
   ]
  },
  {
   "cell_type": "markdown",
   "metadata": {
    "button": false,
    "deletable": true,
    "new_sheet": false,
    "run_control": {
     "read_only": false
    }
   },
   "source": [
    "Let's define a function that defines our regression model for us so that we can conveniently call it to create our model."
   ]
  },
  {
   "cell_type": "code",
   "execution_count": 16,
   "metadata": {
    "button": false,
    "deletable": true,
    "new_sheet": false,
    "run_control": {
     "read_only": false
    }
   },
   "outputs": [],
   "source": [
    "# define regression model\n",
    "def regression_model():\n",
    "    # create model\n",
    "    model = Sequential()\n",
    "    model.add(Dense(50, activation='relu', input_shape=(n_cols,)))\n",
    "    model.add(Dense(50, activation='relu'))\n",
    "    model.add(Dense(1))\n",
    "    \n",
    "    # compile model\n",
    "    model.compile(optimizer='adam', loss='mean_squared_error')\n",
    "    return model"
   ]
  },
  {
   "cell_type": "markdown",
   "metadata": {},
   "source": [
    "The above function create a model that has two hidden layers, each of 50 hidden units."
   ]
  },
  {
   "cell_type": "markdown",
   "metadata": {
    "button": false,
    "deletable": true,
    "new_sheet": false,
    "run_control": {
     "read_only": false
    }
   },
   "source": [
    "<a id=\"item4\"></a>"
   ]
  },
  {
   "cell_type": "markdown",
   "metadata": {},
   "source": [
    "<a id='item34'></a>"
   ]
  },
  {
   "cell_type": "markdown",
   "metadata": {
    "button": false,
    "deletable": true,
    "new_sheet": false,
    "run_control": {
     "read_only": false
    }
   },
   "source": [
    "## Train and Test the Network"
   ]
  },
  {
   "cell_type": "markdown",
   "metadata": {},
   "source": [
    "Let's call the function now to create our model."
   ]
  },
  {
   "cell_type": "code",
   "execution_count": 17,
   "metadata": {
    "button": false,
    "deletable": true,
    "new_sheet": false,
    "run_control": {
     "read_only": false
    }
   },
   "outputs": [],
   "source": [
    "# build the model\n",
    "model = regression_model()"
   ]
  },
  {
   "cell_type": "markdown",
   "metadata": {},
   "source": [
    "Next, we will train and test the model at the same time using the *fit* method. We will leave out 30% of the data for validation and we will train the model for 100 epochs."
   ]
  },
  {
   "cell_type": "code",
   "execution_count": 20,
   "metadata": {},
   "outputs": [
    {
     "name": "stdout",
     "output_type": "stream",
     "text": [
      "Train on 721 samples, validate on 309 samples\n",
      "Epoch 1/180\n",
      " - 0s - loss: 14.4704 - val_loss: 112.7785\n",
      "Epoch 2/180\n",
      " - 0s - loss: 14.3699 - val_loss: 111.3520\n",
      "Epoch 3/180\n",
      " - 0s - loss: 14.3560 - val_loss: 111.9418\n",
      "Epoch 4/180\n",
      " - 0s - loss: 14.0856 - val_loss: 116.6608\n",
      "Epoch 5/180\n",
      " - 0s - loss: 14.3886 - val_loss: 115.6709\n",
      "Epoch 6/180\n",
      " - 0s - loss: 14.4036 - val_loss: 108.4010\n",
      "Epoch 7/180\n",
      " - 0s - loss: 14.2846 - val_loss: 113.1899\n",
      "Epoch 8/180\n",
      " - 0s - loss: 14.5630 - val_loss: 103.2562\n",
      "Epoch 9/180\n",
      " - 0s - loss: 15.0561 - val_loss: 102.2370\n",
      "Epoch 10/180\n",
      " - 0s - loss: 14.4793 - val_loss: 110.1428\n",
      "Epoch 11/180\n",
      " - 0s - loss: 14.4378 - val_loss: 109.3253\n",
      "Epoch 12/180\n",
      " - 0s - loss: 14.8520 - val_loss: 106.2520\n",
      "Epoch 13/180\n",
      " - 0s - loss: 14.5042 - val_loss: 106.1734\n",
      "Epoch 14/180\n",
      " - 0s - loss: 13.9135 - val_loss: 114.1831\n",
      "Epoch 15/180\n",
      " - 0s - loss: 14.2746 - val_loss: 102.2457\n",
      "Epoch 16/180\n",
      " - 0s - loss: 14.3713 - val_loss: 106.0791\n",
      "Epoch 17/180\n",
      " - 0s - loss: 13.7536 - val_loss: 104.1708\n",
      "Epoch 18/180\n",
      " - 0s - loss: 14.2094 - val_loss: 110.4131\n",
      "Epoch 19/180\n",
      " - 0s - loss: 13.7448 - val_loss: 104.2160\n",
      "Epoch 20/180\n",
      " - 0s - loss: 14.1427 - val_loss: 117.0009\n",
      "Epoch 21/180\n",
      " - 0s - loss: 13.4992 - val_loss: 110.6795\n",
      "Epoch 22/180\n",
      " - 0s - loss: 13.8933 - val_loss: 109.3826\n",
      "Epoch 23/180\n",
      " - 0s - loss: 13.5120 - val_loss: 111.7341\n",
      "Epoch 24/180\n",
      " - 0s - loss: 13.7558 - val_loss: 104.4972\n",
      "Epoch 25/180\n",
      " - 0s - loss: 13.7362 - val_loss: 112.2762\n",
      "Epoch 26/180\n",
      " - 0s - loss: 14.0114 - val_loss: 108.3894\n",
      "Epoch 27/180\n",
      " - 0s - loss: 13.2321 - val_loss: 110.7422\n",
      "Epoch 28/180\n",
      " - 0s - loss: 13.5405 - val_loss: 105.6719\n",
      "Epoch 29/180\n",
      " - 0s - loss: 13.7623 - val_loss: 102.8098\n",
      "Epoch 30/180\n",
      " - 0s - loss: 13.5827 - val_loss: 111.0904\n",
      "Epoch 31/180\n",
      " - 0s - loss: 13.6034 - val_loss: 101.6687\n",
      "Epoch 32/180\n",
      " - 0s - loss: 13.4207 - val_loss: 104.1351\n",
      "Epoch 33/180\n",
      " - 0s - loss: 13.1921 - val_loss: 113.3613\n",
      "Epoch 34/180\n",
      " - 0s - loss: 13.2840 - val_loss: 118.0920\n",
      "Epoch 35/180\n",
      " - 0s - loss: 13.6909 - val_loss: 120.2058\n",
      "Epoch 36/180\n",
      " - 0s - loss: 13.5566 - val_loss: 112.5823\n",
      "Epoch 37/180\n",
      " - 0s - loss: 13.8647 - val_loss: 100.5912\n",
      "Epoch 38/180\n",
      " - 0s - loss: 13.1859 - val_loss: 112.4585\n",
      "Epoch 39/180\n",
      " - 0s - loss: 13.1159 - val_loss: 106.4013\n",
      "Epoch 40/180\n",
      " - 0s - loss: 13.0114 - val_loss: 108.7858\n",
      "Epoch 41/180\n",
      " - 0s - loss: 12.9922 - val_loss: 113.6006\n",
      "Epoch 42/180\n",
      " - 0s - loss: 13.1075 - val_loss: 111.4859\n",
      "Epoch 43/180\n",
      " - 0s - loss: 13.0066 - val_loss: 109.4497\n",
      "Epoch 44/180\n",
      " - 0s - loss: 13.0815 - val_loss: 105.5803\n",
      "Epoch 45/180\n",
      " - 0s - loss: 13.0016 - val_loss: 114.1664\n",
      "Epoch 46/180\n",
      " - 0s - loss: 12.9427 - val_loss: 108.5832\n",
      "Epoch 47/180\n",
      " - 0s - loss: 12.8878 - val_loss: 110.8504\n",
      "Epoch 48/180\n",
      " - 0s - loss: 12.7572 - val_loss: 111.6584\n",
      "Epoch 49/180\n",
      " - 0s - loss: 13.2586 - val_loss: 108.2416\n",
      "Epoch 50/180\n",
      " - 0s - loss: 13.4802 - val_loss: 117.8006\n",
      "Epoch 51/180\n",
      " - 0s - loss: 12.9303 - val_loss: 107.0190\n",
      "Epoch 52/180\n",
      " - 0s - loss: 12.7677 - val_loss: 106.8523\n",
      "Epoch 53/180\n",
      " - 0s - loss: 12.8330 - val_loss: 105.5599\n",
      "Epoch 54/180\n",
      " - 0s - loss: 12.7855 - val_loss: 109.0347\n",
      "Epoch 55/180\n",
      " - 0s - loss: 12.8991 - val_loss: 110.6437\n",
      "Epoch 56/180\n",
      " - 0s - loss: 12.5478 - val_loss: 110.4165\n",
      "Epoch 57/180\n",
      " - 0s - loss: 12.7055 - val_loss: 110.9895\n",
      "Epoch 58/180\n",
      " - 0s - loss: 12.5317 - val_loss: 112.7821\n",
      "Epoch 59/180\n",
      " - 0s - loss: 12.5210 - val_loss: 108.9472\n",
      "Epoch 60/180\n",
      " - 0s - loss: 12.3536 - val_loss: 107.7575\n",
      "Epoch 61/180\n",
      " - 0s - loss: 12.5578 - val_loss: 119.3750\n",
      "Epoch 62/180\n",
      " - 0s - loss: 12.6231 - val_loss: 117.7524\n",
      "Epoch 63/180\n",
      " - 0s - loss: 12.9388 - val_loss: 109.4522\n",
      "Epoch 64/180\n",
      " - 0s - loss: 12.4509 - val_loss: 118.0617\n",
      "Epoch 65/180\n",
      " - 0s - loss: 12.4377 - val_loss: 114.0320\n",
      "Epoch 66/180\n",
      " - 0s - loss: 12.3274 - val_loss: 111.6751\n",
      "Epoch 67/180\n",
      " - 0s - loss: 12.8538 - val_loss: 106.1942\n",
      "Epoch 68/180\n",
      " - 0s - loss: 12.4205 - val_loss: 107.3866\n",
      "Epoch 69/180\n",
      " - 0s - loss: 12.5065 - val_loss: 109.6990\n",
      "Epoch 70/180\n",
      " - 0s - loss: 12.9046 - val_loss: 111.2482\n",
      "Epoch 71/180\n",
      " - 0s - loss: 12.3735 - val_loss: 123.5153\n",
      "Epoch 72/180\n",
      " - 0s - loss: 12.8950 - val_loss: 115.5882\n",
      "Epoch 73/180\n",
      " - 0s - loss: 12.3557 - val_loss: 117.3159\n",
      "Epoch 74/180\n",
      " - 0s - loss: 12.2030 - val_loss: 118.4466\n",
      "Epoch 75/180\n",
      " - 0s - loss: 12.3239 - val_loss: 121.9089\n",
      "Epoch 76/180\n",
      " - 0s - loss: 12.2285 - val_loss: 120.2413\n",
      "Epoch 77/180\n",
      " - 0s - loss: 12.1705 - val_loss: 109.9891\n",
      "Epoch 78/180\n",
      " - 0s - loss: 12.7235 - val_loss: 107.6258\n",
      "Epoch 79/180\n",
      " - 0s - loss: 12.5080 - val_loss: 111.1553\n",
      "Epoch 80/180\n",
      " - 0s - loss: 12.3950 - val_loss: 120.6473\n",
      "Epoch 81/180\n",
      " - 0s - loss: 12.0431 - val_loss: 112.7403\n",
      "Epoch 82/180\n",
      " - 0s - loss: 11.8668 - val_loss: 125.4540\n",
      "Epoch 83/180\n",
      " - 0s - loss: 12.2640 - val_loss: 112.9496\n",
      "Epoch 84/180\n",
      " - 0s - loss: 12.1811 - val_loss: 120.2292\n",
      "Epoch 85/180\n",
      " - 0s - loss: 12.3374 - val_loss: 106.2169\n",
      "Epoch 86/180\n",
      " - 0s - loss: 11.8184 - val_loss: 113.1901\n",
      "Epoch 87/180\n",
      " - 0s - loss: 11.7847 - val_loss: 117.3612\n",
      "Epoch 88/180\n",
      " - 0s - loss: 11.9975 - val_loss: 114.2093\n",
      "Epoch 89/180\n",
      " - 0s - loss: 12.0644 - val_loss: 115.9644\n",
      "Epoch 90/180\n",
      " - 0s - loss: 12.0716 - val_loss: 104.0995\n",
      "Epoch 91/180\n",
      " - 0s - loss: 12.2648 - val_loss: 117.0468\n",
      "Epoch 92/180\n",
      " - 0s - loss: 12.0941 - val_loss: 115.4008\n",
      "Epoch 93/180\n",
      " - 0s - loss: 12.4134 - val_loss: 132.6156\n",
      "Epoch 94/180\n",
      " - 0s - loss: 12.4017 - val_loss: 109.2631\n",
      "Epoch 95/180\n",
      " - 0s - loss: 12.0062 - val_loss: 122.6107\n",
      "Epoch 96/180\n",
      " - 0s - loss: 11.7071 - val_loss: 122.9507\n",
      "Epoch 97/180\n",
      " - 0s - loss: 12.1497 - val_loss: 120.6394\n",
      "Epoch 98/180\n",
      " - 0s - loss: 12.3222 - val_loss: 119.4660\n",
      "Epoch 99/180\n",
      " - 0s - loss: 12.5464 - val_loss: 129.2194\n",
      "Epoch 100/180\n",
      " - 0s - loss: 12.7252 - val_loss: 126.0197\n",
      "Epoch 101/180\n",
      " - 0s - loss: 11.9729 - val_loss: 109.9198\n",
      "Epoch 102/180\n",
      " - 0s - loss: 12.2770 - val_loss: 122.5680\n",
      "Epoch 103/180\n",
      " - 0s - loss: 12.0507 - val_loss: 123.4239\n",
      "Epoch 104/180\n",
      " - 0s - loss: 11.7528 - val_loss: 114.7111\n",
      "Epoch 105/180\n",
      " - 0s - loss: 11.7972 - val_loss: 124.7086\n",
      "Epoch 106/180\n",
      " - 0s - loss: 12.1143 - val_loss: 124.3094\n",
      "Epoch 107/180\n",
      " - 0s - loss: 11.8485 - val_loss: 126.4152\n",
      "Epoch 108/180\n",
      " - 0s - loss: 11.9929 - val_loss: 118.9337\n",
      "Epoch 109/180\n",
      " - 0s - loss: 11.6020 - val_loss: 117.5696\n",
      "Epoch 110/180\n",
      " - 0s - loss: 11.5904 - val_loss: 114.7462\n",
      "Epoch 111/180\n",
      " - 0s - loss: 11.4198 - val_loss: 118.3850\n",
      "Epoch 112/180\n",
      " - 0s - loss: 11.4716 - val_loss: 124.2996\n",
      "Epoch 113/180\n",
      " - 0s - loss: 11.6497 - val_loss: 120.2799\n",
      "Epoch 114/180\n",
      " - 0s - loss: 11.5434 - val_loss: 120.5476\n",
      "Epoch 115/180\n",
      " - 0s - loss: 11.4033 - val_loss: 124.5270\n",
      "Epoch 116/180\n",
      " - 0s - loss: 11.4102 - val_loss: 118.4038\n",
      "Epoch 117/180\n",
      " - 0s - loss: 11.2139 - val_loss: 116.8551\n",
      "Epoch 118/180\n",
      " - 0s - loss: 11.3454 - val_loss: 120.3541\n",
      "Epoch 119/180\n",
      " - 0s - loss: 11.4944 - val_loss: 109.7260\n",
      "Epoch 120/180\n",
      " - 0s - loss: 11.9582 - val_loss: 115.2525\n",
      "Epoch 121/180\n",
      " - 0s - loss: 11.5037 - val_loss: 126.6845\n",
      "Epoch 122/180\n",
      " - 0s - loss: 11.2473 - val_loss: 121.5851\n",
      "Epoch 123/180\n",
      " - 0s - loss: 11.4835 - val_loss: 125.3601\n",
      "Epoch 124/180\n",
      " - 0s - loss: 11.6348 - val_loss: 121.3666\n",
      "Epoch 125/180\n",
      " - 0s - loss: 11.2814 - val_loss: 120.0545\n",
      "Epoch 126/180\n",
      " - 0s - loss: 11.3101 - val_loss: 121.6577\n",
      "Epoch 127/180\n",
      " - 0s - loss: 11.0505 - val_loss: 119.6324\n",
      "Epoch 128/180\n",
      " - 0s - loss: 11.0284 - val_loss: 118.8329\n",
      "Epoch 129/180\n",
      " - 0s - loss: 11.0895 - val_loss: 126.1662\n",
      "Epoch 130/180\n",
      " - 0s - loss: 11.3698 - val_loss: 127.2449\n",
      "Epoch 131/180\n",
      " - 0s - loss: 11.0809 - val_loss: 124.5475\n",
      "Epoch 132/180\n",
      " - 0s - loss: 11.0235 - val_loss: 122.6415\n",
      "Epoch 133/180\n",
      " - 0s - loss: 11.6895 - val_loss: 119.0539\n",
      "Epoch 134/180\n",
      " - 0s - loss: 11.2406 - val_loss: 124.4121\n",
      "Epoch 135/180\n",
      " - 0s - loss: 10.9046 - val_loss: 117.1477\n",
      "Epoch 136/180\n",
      " - 0s - loss: 11.2374 - val_loss: 122.7365\n",
      "Epoch 137/180\n",
      " - 0s - loss: 10.8322 - val_loss: 125.4198\n",
      "Epoch 138/180\n",
      " - 0s - loss: 11.1690 - val_loss: 125.2603\n",
      "Epoch 139/180\n",
      " - 0s - loss: 11.3510 - val_loss: 108.2196\n",
      "Epoch 140/180\n",
      " - 0s - loss: 11.4554 - val_loss: 120.0581\n",
      "Epoch 141/180\n",
      " - 0s - loss: 11.5751 - val_loss: 124.5020\n",
      "Epoch 142/180\n",
      " - 0s - loss: 11.0388 - val_loss: 123.4433\n",
      "Epoch 143/180\n",
      " - 0s - loss: 11.1450 - val_loss: 129.3154\n",
      "Epoch 144/180\n",
      " - 0s - loss: 10.8291 - val_loss: 129.5607\n",
      "Epoch 145/180\n",
      " - 0s - loss: 11.3571 - val_loss: 114.6204\n",
      "Epoch 146/180\n",
      " - 0s - loss: 11.1518 - val_loss: 133.0126\n",
      "Epoch 147/180\n",
      " - 0s - loss: 11.0541 - val_loss: 129.5423\n",
      "Epoch 148/180\n",
      " - 0s - loss: 11.1304 - val_loss: 119.7929\n",
      "Epoch 149/180\n",
      " - 0s - loss: 10.8722 - val_loss: 125.3461\n",
      "Epoch 150/180\n",
      " - 0s - loss: 10.8644 - val_loss: 128.1703\n",
      "Epoch 151/180\n",
      " - 0s - loss: 10.5969 - val_loss: 123.9112\n",
      "Epoch 152/180\n",
      " - 0s - loss: 10.5456 - val_loss: 129.7939\n",
      "Epoch 153/180\n",
      " - 0s - loss: 10.9828 - val_loss: 126.8431\n",
      "Epoch 154/180\n",
      " - 0s - loss: 10.9491 - val_loss: 127.4009\n",
      "Epoch 155/180\n",
      " - 0s - loss: 10.8513 - val_loss: 116.8568\n",
      "Epoch 156/180\n",
      " - 0s - loss: 10.7791 - val_loss: 127.5631\n",
      "Epoch 157/180\n",
      " - 0s - loss: 11.0077 - val_loss: 133.3400\n",
      "Epoch 158/180\n",
      " - 0s - loss: 11.1115 - val_loss: 139.2147\n",
      "Epoch 159/180\n",
      " - 0s - loss: 11.0011 - val_loss: 128.0825\n",
      "Epoch 160/180\n",
      " - 0s - loss: 10.8295 - val_loss: 132.8207\n",
      "Epoch 161/180\n",
      " - 0s - loss: 10.9451 - val_loss: 136.5208\n",
      "Epoch 162/180\n",
      " - 0s - loss: 11.1905 - val_loss: 135.6765\n",
      "Epoch 163/180\n",
      " - 0s - loss: 10.4969 - val_loss: 132.0570\n",
      "Epoch 164/180\n",
      " - 0s - loss: 10.4070 - val_loss: 123.5772\n",
      "Epoch 165/180\n",
      " - 0s - loss: 10.5177 - val_loss: 126.4703\n",
      "Epoch 166/180\n",
      " - 0s - loss: 10.6697 - val_loss: 125.1019\n",
      "Epoch 167/180\n",
      " - 0s - loss: 10.6182 - val_loss: 131.5360\n",
      "Epoch 168/180\n",
      " - 0s - loss: 10.5016 - val_loss: 119.8317\n",
      "Epoch 169/180\n",
      " - 0s - loss: 10.6551 - val_loss: 131.4204\n",
      "Epoch 170/180\n",
      " - 0s - loss: 11.0060 - val_loss: 123.9589\n",
      "Epoch 171/180\n",
      " - 0s - loss: 10.4639 - val_loss: 132.0850\n",
      "Epoch 172/180\n",
      " - 0s - loss: 10.3167 - val_loss: 124.7557\n",
      "Epoch 173/180\n",
      " - 0s - loss: 10.6342 - val_loss: 139.6389\n",
      "Epoch 174/180\n",
      " - 0s - loss: 10.8448 - val_loss: 130.6368\n",
      "Epoch 175/180\n",
      " - 0s - loss: 10.5871 - val_loss: 128.3444\n",
      "Epoch 176/180\n",
      " - 0s - loss: 10.4241 - val_loss: 132.3479\n",
      "Epoch 177/180\n",
      " - 0s - loss: 10.7331 - val_loss: 129.9262\n",
      "Epoch 178/180\n",
      " - 0s - loss: 10.4085 - val_loss: 127.9359\n",
      "Epoch 179/180\n",
      " - 0s - loss: 10.8836 - val_loss: 129.8929\n",
      "Epoch 180/180\n",
      " - 0s - loss: 10.6771 - val_loss: 133.4175\n"
     ]
    },
    {
     "data": {
      "text/plain": [
       "<keras.callbacks.History at 0x7f69442f6860>"
      ]
     },
     "execution_count": 20,
     "metadata": {},
     "output_type": "execute_result"
    }
   ],
   "source": [
    "# fit the model\n",
    "model.fit(predictors_norm, target, validation_split=0.3, epochs=180, verbose=2)"
   ]
  },
  {
   "cell_type": "markdown",
   "metadata": {
    "button": false,
    "deletable": true,
    "new_sheet": false,
    "run_control": {
     "read_only": false
    }
   },
   "source": [
    "<strong>You can refer to this [link](https://keras.io/models/sequential/) to learn about other functions that you can use for prediction or evaluation.</strong>"
   ]
  },
  {
   "cell_type": "markdown",
   "metadata": {
    "button": false,
    "deletable": true,
    "new_sheet": false,
    "run_control": {
     "read_only": false
    }
   },
   "source": [
    "Feel free to vary the following and note what impact each change has on the model's performance:\n",
    "\n",
    "1. Increase or decreate number of neurons in hidden layers\n",
    "2. Add more hidden layers\n",
    "3. Increase number of epochs"
   ]
  },
  {
   "cell_type": "markdown",
   "metadata": {
    "button": false,
    "deletable": true,
    "new_sheet": false,
    "run_control": {
     "read_only": false
    }
   },
   "source": [
    "### Thank you for completing this lab!\n",
    "\n",
    "This notebook was created by [Alex Aklson](https://www.linkedin.com/in/aklson/). I hope you found this lab interesting and educational. Feel free to contact me if you have any questions!"
   ]
  },
  {
   "cell_type": "markdown",
   "metadata": {
    "button": false,
    "deletable": true,
    "new_sheet": false,
    "run_control": {
     "read_only": false
    }
   },
   "source": [
    "This notebook is part of a course on **Coursera** called *Introduction to Deep Learning & Neural Networks with Keras*. If you accessed this notebook outside the course, you can take this course online by clicking [here](https://cocl.us/DL0101EN_Coursera_Week3_LAB1)."
   ]
  },
  {
   "cell_type": "markdown",
   "metadata": {
    "button": false,
    "deletable": true,
    "new_sheet": false,
    "run_control": {
     "read_only": false
    }
   },
   "source": [
    "<hr>\n",
    "\n",
    "Copyright &copy; 2019 [IBM Developer Skills Network](https://cognitiveclass.ai/?utm_source=bducopyrightlink&utm_medium=dswb&utm_campaign=bdu). This notebook and its source code are released under the terms of the [MIT License](https://bigdatauniversity.com/mit-license/)."
   ]
  }
 ],
 "metadata": {
  "kernelspec": {
   "display_name": "Python",
   "language": "python",
   "name": "conda-env-python-py"
  },
  "language_info": {
   "codemirror_mode": {
    "name": "ipython",
    "version": 3
   },
   "file_extension": ".py",
   "mimetype": "text/x-python",
   "name": "python",
   "nbconvert_exporter": "python",
   "pygments_lexer": "ipython3",
   "version": "3.6.11"
  }
 },
 "nbformat": 4,
 "nbformat_minor": 4
}
